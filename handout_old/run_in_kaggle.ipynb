{
 "cells": [
  {
   "cell_type": "code",
   "execution_count": null,
   "metadata": {},
   "outputs": [],
   "source": [
    "# On Kaggle\n",
    "# 1. Attach a GPU (see recitation for details on how to do these steps.)\n",
    "# 2. Enable file persistence (see recitation for details on how to do these steps.)"
   ]
  },
  {
   "cell_type": "code",
   "execution_count": null,
   "metadata": {},
   "outputs": [],
   "source": [
    "# Uncomment this on Kaggle - Fetch the homework files.\n",
    "\n",
    "# !wget http://www.cs.cmu.edu/~mgormley/courses/10423/homework/hw2.zip --output my_data.zip\n",
    "# !unzip -q my_data.zip -d my_data/\n",
    "# !rm my_data.zip\n",
    "\n",
    "# Another option\n",
    "# 1. upload the zipped code files according to the recitation handout\n",
    "# 2. attach the dataset using \"Add Input\": https://www.kaggle.com/datasets/zimingy1/hw2-data/"
   ]
  },
  {
   "cell_type": "code",
   "execution_count": null,
   "metadata": {},
   "outputs": [],
   "source": [
    "# Uncomment this on Kaggle - Set up the environment\n",
    "!pip install --quiet -r <YOUR PATH IN KAGGLE TO requirements.txt>\n",
    "import sys\n",
    "\n",
    "sys.path.append(\"YOUR PATH IN KAGGLE TO ./handout\")\n",
    "from utils import train_diffusion, visualize_diffusion"
   ]
  },
  {
   "cell_type": "code",
   "execution_count": null,
   "metadata": {},
   "outputs": [],
   "source": [
    "## COPY / PASTE YOUR ENTIRE DIFFUSION.PY FILE HERE\n",
    "\n"
   ]
  },
  {
   "cell_type": "code",
   "execution_count": null,
   "metadata": {},
   "outputs": [],
   "source": [
    "args = {\n",
    "    \"save_folder\": \"YOUR PATH IN KAGGLE TO ./results/\",\n",
    "    \"data_path\": \"YOUR PATH IN KAGGLE TO ./data/train\",\n",
    "    \"train_steps\": ...,\n",
    "    \"save_and_sample_every\": ...,\n",
    "    \"fid\": ...,\n",
    "}"
   ]
  },
  {
   "cell_type": "code",
   "execution_count": null,
   "metadata": {},
   "outputs": [],
   "source": [
    "# Train the model: If you use colab T4 to train the model, the training process will probably take 2 hours.\n",
    "train_diffusion(**args, Diffusion=Diffusion)"
   ]
  },
  {
   "cell_type": "code",
   "execution_count": null,
   "metadata": {},
   "outputs": [],
   "source": [
    "# # Visualize the forward and backward process\n",
    "visualize_diffusion(**args, load_path=\"YOUR PATH IN KAGGLE TO ./results/model.pt\", Diffusion=Diffusion)"
   ]
  }
 ],
 "metadata": {
  "kaggle": {
   "accelerator": "none",
   "dataSources": [],
   "isGpuEnabled": false,
   "isInternetEnabled": true,
   "language": "python",
   "sourceType": "notebook"
  },
  "kernelspec": {
   "display_name": "",
   "name": ""
  },
  "language_info": {
   "name": "python"
  }
 },
 "nbformat": 4,
 "nbformat_minor": 4
}
